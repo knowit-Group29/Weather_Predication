{
 "cells": [
  {
   "cell_type": "code",
   "execution_count": null,
   "id": "ea038c59-bb2e-4d5a-9f3d-971cfb97eaaf",
   "metadata": {},
   "outputs": [],
   "source": [
    "# Intialization\n",
    "import os\n",
    "import sys\n",
    "\n",
    "os.environ[\"SPARK_HOME\"] = \"/home/talentum/spark\"\n",
    "os.environ[\"PYLIB\"] = os.environ[\"SPARK_HOME\"] + \"/python/lib\"\n",
    "# In below two lines, use /usr/bin/python2.7 if you want to use Python 2\n",
    "os.environ[\"PYSPARK_PYTHON\"] = \"/usr/bin/python3.6\" \n",
    "os.environ[\"PYSPARK_DRIVER_PYTHON\"] = \"/usr/bin/python3\"\n",
    "sys.path.insert(0, os.environ[\"PYLIB\"] +\"/py4j-0.10.7-src.zip\")\n",
    "sys.path.insert(0, os.environ[\"PYLIB\"] +\"/pyspark.zip\")\n",
    "\n",
    "# NOTE: Whichever package you want mention here.\n",
    "# os.environ['PYSPARK_SUBMIT_ARGS'] = '--packages com.databricks:spark-xml_2.11:0.6.0 pyspark-shell' \n",
    "# os.environ['PYSPARK_SUBMIT_ARGS'] = '--packages org.apache.spark:spark-avro_2.11:2.4.0 pyspark-shell'\n",
    "os.environ['PYSPARK_SUBMIT_ARGS'] = '--packages com.databricks:spark-xml_2.11:0.6.0,org.apache.spark:spark-avro_2.11:2.4.3 pyspark-shell'\n",
    "# os.environ['PYSPARK_SUBMIT_ARGS'] = '--packages com.databricks:spark-xml_2.11:0.6.0,org.apache.spark:spark-avro_2.11:2.4.0 pyspark-shell'"
   ]
  },
  {
   "cell_type": "code",
   "execution_count": null,
   "id": "9524031d-3a40-4ffd-afaf-34a5b683e848",
   "metadata": {},
   "outputs": [],
   "source": [
    "#Entrypoint 2.x\n",
    "from pyspark.sql import SparkSession\n",
    "spark = SparkSession.builder.appName(\"TimeSeriesPreprocessing_holtwintermodel\").enableHiveSupport().getOrCreate()\n",
    "\n",
    "# On yarn:\n",
    "# spark = SparkSession.builder.appName(\"Spark SQL basic example\").enableHiveSupport().master(\"yarn\").getOrCreate()\n",
    "# specify .master(\"yarn\")\n",
    "\n",
    "sc = spark.sparkContext"
   ]
  },
  {
   "cell_type": "code",
   "execution_count": null,
   "id": "39be4033-df6e-482b-9e29-29d1a3b8457a",
   "metadata": {},
   "outputs": [],
   "source": [
    "from pyspark.sql import SparkSession\n",
    "from pyspark.sql.functions import col, to_timestamp\n",
    "import pandas as pd\n",
    "import matplotlib.pyplot as plt \n",
    "\n",
    "\n",
    "# Load the data into Spark DataFrame\n",
    "file_path = 'file:///home/talentum/pune.csv'\n",
    "data_spark = spark.read.csv(file_path, header=True, inferSchema=True)\n",
    "\n",
    "# Convert 'date_time' column to timestamp\n",
    "data_spark = data_spark.withColumn('date_time', to_timestamp(col('date_time')))\n",
    "\n",
    "# Drop rows with missing 'date_time'\n",
    "data_spark = data_spark.dropna(subset=['date_time'])\n",
    "\n",
    "# Rename columns\n",
    "data_spark = data_spark.withColumnRenamed('date_time', 'ds').withColumnRenamed('tempC', 'y')\n",
    "\n",
    "# Ensure 'y' column is numeric\n",
    "data_spark = data_spark.withColumn('y', col('y').cast('double'))\n",
    "\n",
    "# Drop rows with NaNs in 'y'\n",
    "data_spark = data_spark.dropna(subset=['y'])\n",
    "\n",
    "# Set 'ds' column as index (we need to collect to Pandas DataFrame for this operation)\n",
    "data_spark = data_spark.toPandas()\n",
    "\n",
    "# Set index and sort\n",
    "data_spark.set_index('ds', inplace=True)\n",
    "data_spark.index = pd.to_datetime(data_spark.index)\n",
    "data_spark.sort_index(inplace=True)\n",
    "\n",
    "# Plot the data to understand trends and seasonality\n",
    "plt.figure(figsize=(10, 5))\n",
    "plt.plot(data_spark.index, data_spark['y'], label='Observed Data')\n",
    "plt.title('Temperature Data')\n",
    "plt.xlabel('Date')\n",
    "plt.ylabel('Temperature (C)')\n",
    "plt.legend()\n",
    "plt.show()\n",
    "\n",
    "# Split the data into training and test sets\n",
    "train_size = int(len(data_spark) * 0.8)\n",
    "train, test = data_spark[:train_size], data_spark[train_size:]\n"
   ]
  }
 ],
 "metadata": {
  "kernelspec": {
   "display_name": "Python 3 (ipykernel)",
   "language": "python",
   "name": "python3"
  },
  "language_info": {
   "codemirror_mode": {
    "name": "ipython",
    "version": 3
   },
   "file_extension": ".py",
   "mimetype": "text/x-python",
   "name": "python",
   "nbconvert_exporter": "python",
   "pygments_lexer": "ipython3",
   "version": "3.11.7"
  }
 },
 "nbformat": 4,
 "nbformat_minor": 5
}
