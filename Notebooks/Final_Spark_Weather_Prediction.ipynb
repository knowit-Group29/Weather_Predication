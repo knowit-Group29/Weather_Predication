{
 "cells": [
  {
   "cell_type": "code",
   "execution_count": 1,
   "id": "2d49a01f",
   "metadata": {},
   "outputs": [],
   "source": [
    "# Intialization\n",
    "import os\n",
    "import sys\n",
    "\n",
    "os.environ[\"SPARK_HOME\"] = \"/home/talentum/spark\"\n",
    "os.environ[\"PYLIB\"] = os.environ[\"SPARK_HOME\"] + \"/python/lib\"\n",
    "# In below two lines, use /usr/bin/python2.7 if you want to use Python 2\n",
    "os.environ[\"PYSPARK_PYTHON\"] = \"/usr/bin/python3.6\" \n",
    "os.environ[\"PYSPARK_DRIVER_PYTHON\"] = \"/usr/bin/python3.6\"\n",
    "sys.path.insert(0, os.environ[\"PYLIB\"] +\"/py4j-0.10.7-src.zip\")\n",
    "sys.path.insert(0, os.environ[\"PYLIB\"] +\"/pyspark.zip\")\n",
    "\n",
    "# NOTE: Whichever package you want mention here.\n",
    "# os.environ['PYSPARK_SUBMIT_ARGS'] = '--packages com.databricks:spark-xml_2.11:0.6.0 pyspark-shell' \n",
    "# os.environ['PYSPARK_SUBMIT_ARGS'] = '--packages org.apache.spark:spark-avro_2.11:2.4.0 pyspark-shell'\n",
    "os.environ['PYSPARK_SUBMIT_ARGS'] = '--packages com.databricks:spark-xml_2.11:0.6.0,org.apache.spark:spark-avro_2.11:2.4.3 pyspark-shell'\n",
    "# os.environ['PYSPARK_SUBMIT_ARGS'] = '--packages com.databricks:spark-xml_2.11:0.6.0,org.apache.spark:spark-avro_2.11:2.4.0 pyspark-shell'"
   ]
  },
  {
   "cell_type": "code",
   "execution_count": 2,
   "id": "4e01c804",
   "metadata": {},
   "outputs": [],
   "source": [
    "#Entrypoint 2.x\n",
    "from pyspark.sql import SparkSession\n",
    "spark = SparkSession.builder.appName(\"WeatherPredictionPune\").enableHiveSupport().getOrCreate()\n",
    "\n",
    "# On yarn:\n",
    "# spark = SparkSession.builder.appName(\"Spark SQL basic example\").enableHiveSupport().master(\"yarn\").getOrCreate()\n",
    "# specify .master(\"yarn\")\n",
    "\n",
    "sc = spark.sparkContext"
   ]
  },
  {
   "cell_type": "code",
   "execution_count": 3,
   "id": "cf024f05",
   "metadata": {},
   "outputs": [
    {
     "name": "stdout",
     "output_type": "stream",
     "text": [
      "+-------------------+--------+--------+-------+-------+-----------------+--------+--------+--------+--------+---------+----------+----------+----------+------------+----------+--------+--------+--------+-----+----------+-------------+-------------+\n",
      "|          date_time|maxtempC|mintempC|sunHour|uvIndex|moon_illumination|moonrise| moonset| sunrise|  sunset|DewPointC|FeelsLikeC|HeatIndexC|WindChillC|WindGustKmph|cloudcover|humidity|precipMM|pressure|tempC|visibility|winddirDegree|windspeedKmph|\n",
      "+-------------------+--------+--------+-------+-------+-----------------+--------+--------+--------+--------+---------+----------+----------+----------+------------+----------+--------+--------+--------+-----+----------+-------------+-------------+\n",
      "|2017-01-01 01:00:00|      31|      17|   11.0|      6|               20|09:15 AM|08:58 PM|07:07 AM|06:09 PM|    20714|        18|        18|        18|           5|         1|      63|     0.0|    1014|   18|        10|           82|            2|\n",
      "|2017-01-01 02:00:00|      31|      17|   11.0|      6|               20|09:15 AM|08:58 PM|07:07 AM|06:09 PM|    20715|        18|        18|        18|           5|         0|      63|     0.0|    1014|   18|        10|           94|            3|\n",
      "|2017-01-01 03:00:00|      31|      17|   11.0|      6|               20|09:15 AM|08:58 PM|07:07 AM|06:09 PM|    20716|        17|        17|        17|           6|         0|      64|     0.0|    1014|   17|        10|          105|            3|\n",
      "|2017-01-01 04:00:00|      31|      17|   11.0|      6|               20|09:15 AM|08:58 PM|07:07 AM|06:09 PM|    20717|        19|        19|        19|           7|         1|      57|     0.0|    1014|   19|        10|          110|            4|\n",
      "|2017-01-01 05:00:00|      31|      17|   null|      6|               20|09:15 AM|08:58 PM|07:07 AM|06:09 PM|    20718|        19|        19|        19|           8|         1|      51|     0.0|    1015|   19|        10|          115|            5|\n",
      "|2017-01-01 06:00:00|      31|      17|   11.0|      6|               20|09:15 AM|08:58 PM|07:07 AM|06:09 PM|    20719|        20|        20|        20|           9|         2|      44|     0.0|    1015|   20|        10|          120|            6|\n",
      "|2017-01-01 07:00:00|      31|      17|   11.0|      6|               20|09:15 AM|08:58 PM|07:07 AM|06:09 PM|    20720|        21|        24|        21|           9|         2|      39|     0.0|    1015|   21|        10|          123|            7|\n",
      "|2017-01-01 08:00:00|      31|      17|   11.0|      6|               20|09:15 AM|08:58 PM|07:07 AM|06:09 PM|    20721|        25|        25|        23|           9|         2|      34|     0.0|    1015|   23|        10|          126|            7|\n",
      "|2017-01-01 09:00:00|      31|      17|   11.0|      6|               20|09:15 AM|08:58 PM|07:07 AM|06:09 PM|    20722|        26|        26|        26|           9|         3|      28|     0.0|    1015|   26|        10|          129|            8|\n",
      "|2017-01-01 10:00:00|      31|      17|   11.0|      6|               20|09:15 AM|08:58 PM|07:07 AM|06:09 PM|    20723|        27|        27|        28|          12|         2|      26|     0.0|    1014|   28|        10|          123|            7|\n",
      "|2017-01-01 11:00:00|      31|      17|   11.0|      6|               20|09:15 AM|08:58 PM|07:07 AM|06:09 PM|    20724|        29|        29|        30|          11|         2|      24|     0.0|    1013|   30|        10|          117|            6|\n",
      "|2017-01-01 12:00:00|      31|      17|   11.0|      6|               20|09:15 AM|08:58 PM|07:07 AM|06:09 PM|    20725|        30|        30|        31|          11|         2|      22|     0.0|    1012|   31|        10|          111|            5|\n",
      "|2017-01-01 13:00:00|      31|      17|   11.0|      6|               20|09:15 AM|08:58 PM|07:07 AM|06:09 PM|    20726|        29|        29|        31|          11|         1|      24|     0.0|    1012|   31|        10|          103|            5|\n",
      "|2017-01-01 14:00:00|      31|      17|   11.0|      6|               20|09:15 AM|08:58 PM|07:07 AM|06:09 PM|    20727|        29|        29|        31|          13|         1|      27|     0.0|    1012|   31|        10|           95|            6|\n",
      "|2017-01-01 15:00:00|      31|      17|   11.0|      6|               20|09:15 AM|08:58 PM|07:07 AM|06:09 PM|    20728|        28|        28|        29|          14|         0|      29|     0.0|    1012|   29|        10|           87|            7|\n",
      "|2017-01-01 16:00:00|      31|      17|   11.0|      6|               20|09:15 AM|08:58 PM|07:07 AM|06:09 PM|    20729|        27|        27|        28|          14|         1|      36|     0.0|    1013|   28|        10|           95|            5|\n",
      "|2017-01-01 17:00:00|      31|      17|   11.0|      6|               20|09:15 AM|08:58 PM|07:07 AM|06:09 PM|    20730|        26|        26|        26|          13|         1|      42|     0.0|    1013|   26|        10|          104|            4|\n",
      "|2017-01-01 18:00:00|      31|      17|   11.0|      6|               20|09:15 AM|08:58 PM|07:07 AM|06:09 PM|    20731|        25|        25|        23|          12|         2|      49|     0.0|    1014|   23|        10|          112|            2|\n",
      "|2017-01-01 19:00:00|      31|      17|   11.0|      6|               20|09:15 AM|08:58 PM|07:07 AM|06:09 PM|    20732|        24|        24|        22|          10|         2|      49|     0.0|    1014|   22|        10|          175|            3|\n",
      "|2017-01-01 20:00:00|      31|      17|   11.0|      6|               20|09:15 AM|08:58 PM|07:07 AM|06:09 PM|    20733|        20|        20|        20|           6|         2|      49|     0.0|    1014|   20|        10|          238|            3|\n",
      "+-------------------+--------+--------+-------+-------+-----------------+--------+--------+--------+--------+---------+----------+----------+----------+------------+----------+--------+--------+--------+-----+----------+-------------+-------------+\n",
      "only showing top 20 rows\n",
      "\n"
     ]
    }
   ],
   "source": [
    "# Read the CSV file into a Spark DataFrame\n",
    "df_spark = spark.read.csv(\"file:///home/talentum/Pune_23.csv\", header=True, inferSchema=True)\n",
    "\n",
    "# Show the DataFrame\n",
    "df_spark.show()"
   ]
  },
  {
   "cell_type": "code",
   "execution_count": 4,
   "id": "96575c08",
   "metadata": {},
   "outputs": [
    {
     "data": {
      "image/png": "[encoded data removed]",
      "text/plain": [
       "<Figure size 720x576 with 6 Axes>"
      ]
     },
     "metadata": {},
     "output_type": "display_data"
    }
   ],
   "source": [
    "import seaborn as sns\n",
    "import matplotlib.pyplot as plt\n",
    "\n",
    "# Convert Spark DataFrame to Pandas DataFrame\n",
    "df = df_spark.toPandas()\n",
    "\n",
    "# Plotting\n",
    "sns.set(style=\"darkgrid\")\n",
    "fig, axs = plt.subplots(2, 3, figsize=(10, 8))\n",
    "\n",
    "sns.histplot(data=df, x=\"maxtempC\", kde=True, ax=axs[0, 0], color='red')\n",
    "sns.histplot(data=df, x=\"mintempC\", kde=True, ax=axs[0, 1], color='green')\n",
    "sns.histplot(data=df, x=\"pressure\", kde=True, ax=axs[0, 2], color='blue')\n",
    "sns.histplot(data=df, x=\"humidity\", kde=True, ax=axs[1, 0], color='orange')\n",
    "sns.histplot(data=df, x=\"HeatIndexC\", kde=True, ax=axs[1, 1], color='black')\n",
    "sns.histplot(data=df, x=\"uvIndex\", kde=True, ax=axs[1, 2], color='yellow')\n",
    "\n",
    "# Adjust layout to prevent overlap\n",
    "plt.tight_layout()\n",
    "\n",
    "# Save the figure\n",
    "plt.savefig('histogram_distribution.png')\n"
   ]
  },
  {
   "cell_type": "code",
   "execution_count": 5,
   "id": "d176ab77",
   "metadata": {},
   "outputs": [
    {
     "name": "stdout",
     "output_type": "stream",
     "text": [
      "Shape of the DataFrame: (52583, 23)\n"
     ]
    }
   ],
   "source": [
    "# Get number of rows\n",
    "num_rows = df_spark.count()\n",
    "\n",
    "# Get number of columns\n",
    "num_columns = len(df_spark.columns)\n",
    "\n",
    "# Print the shape\n",
    "print(f\"Shape of the DataFrame: ({num_rows}, {num_columns})\")"
   ]
  },
  {
   "cell_type": "code",
   "execution_count": 6,
   "id": "a5d6d87e",
   "metadata": {},
   "outputs": [
    {
     "data": {
      "text/plain": [
       "[('date_time', 'timestamp'),\n",
       " ('maxtempC', 'int'),\n",
       " ('mintempC', 'int'),\n",
       " ('sunHour', 'double'),\n",
       " ('uvIndex', 'int'),\n",
       " ('moon_illumination', 'int'),\n",
       " ('moonrise', 'string'),\n",
       " ('moonset', 'string'),\n",
       " ('sunrise', 'string'),\n",
       " ('sunset', 'string'),\n",
       " ('DewPointC', 'int'),\n",
       " ('FeelsLikeC', 'int'),\n",
       " ('HeatIndexC', 'int'),\n",
       " ('WindChillC', 'int'),\n",
       " ('WindGustKmph', 'int'),\n",
       " ('cloudcover', 'int'),\n",
       " ('humidity', 'int'),\n",
       " ('precipMM', 'double'),\n",
       " ('pressure', 'int'),\n",
       " ('tempC', 'int'),\n",
       " ('visibility', 'int'),\n",
       " ('winddirDegree', 'int'),\n",
       " ('windspeedKmph', 'int')]"
      ]
     },
     "execution_count": 6,
     "metadata": {},
     "output_type": "execute_result"
    }
   ],
   "source": [
    "df_spark.dtypes"
   ]
  },
  {
   "cell_type": "code",
   "execution_count": 7,
   "id": "e8b2e9e7",
   "metadata": {},
   "outputs": [
    {
     "name": "stdout",
     "output_type": "stream",
     "text": [
      "Schema:\n",
      "root\n",
      " |-- date_time: timestamp (nullable = true)\n",
      " |-- maxtempC: integer (nullable = true)\n",
      " |-- mintempC: integer (nullable = true)\n",
      " |-- sunHour: double (nullable = true)\n",
      " |-- uvIndex: integer (nullable = true)\n",
      " |-- moon_illumination: integer (nullable = true)\n",
      " |-- moonrise: string (nullable = true)\n",
      " |-- moonset: string (nullable = true)\n",
      " |-- sunrise: string (nullable = true)\n",
      " |-- sunset: string (nullable = true)\n",
      " |-- DewPointC: integer (nullable = true)\n",
      " |-- FeelsLikeC: integer (nullable = true)\n",
      " |-- HeatIndexC: integer (nullable = true)\n",
      " |-- WindChillC: integer (nullable = true)\n",
      " |-- WindGustKmph: integer (nullable = true)\n",
      " |-- cloudcover: integer (nullable = true)\n",
      " |-- humidity: integer (nullable = true)\n",
      " |-- precipMM: double (nullable = true)\n",
      " |-- pressure: integer (nullable = true)\n",
      " |-- tempC: integer (nullable = true)\n",
      " |-- visibility: integer (nullable = true)\n",
      " |-- winddirDegree: integer (nullable = true)\n",
      " |-- windspeedKmph: integer (nullable = true)\n",
      "\n",
      "\n",
      "Columns:\n",
      "['date_time', 'maxtempC', 'mintempC', 'sunHour', 'uvIndex', 'moon_illumination', 'moonrise', 'moonset', 'sunrise', 'sunset', 'DewPointC', 'FeelsLikeC', 'HeatIndexC', 'WindChillC', 'WindGustKmph', 'cloudcover', 'humidity', 'precipMM', 'pressure', 'tempC', 'visibility', 'winddirDegree', 'windspeedKmph']\n",
      "\n",
      "Number of rows: 52583\n",
      "\n",
      "Basic statistics:\n",
      "+-------+-----------------+------------------+------------------+------------------+-----------------+-----------+----------+--------+--------+------------------+------------------+------------------+-----------------+-----------------+------------------+-----------------+-------------------+------------------+------------------+------------------+-----------------+------------------+\n",
      "|summary|         maxtempC|          mintempC|           sunHour|           uvIndex|moon_illumination|   moonrise|   moonset| sunrise|  sunset|         DewPointC|        FeelsLikeC|        HeatIndexC|       WindChillC|     WindGustKmph|        cloudcover|         humidity|           precipMM|          pressure|             tempC|        visibility|    winddirDegree|     windspeedKmph|\n",
      "+-------+-----------------+------------------+------------------+------------------+-----------------+-----------+----------+--------+--------+------------------+------------------+------------------+-----------------+-----------------+------------------+-----------------+-------------------+------------------+------------------+------------------+-----------------+------------------+\n",
      "|  count|            51713|             52558|             52431|             52530|            52582|      52583|     52583|   52583|   52583|             52580|             52583|             52583|            52558|            52574|             52583|            52583|              52567|             52581|             52583|             52583|            52583|             52583|\n",
      "|   mean|30.83209251058728|21.247650215000572|11.087581774139888| 6.267028364743956|46.11266212772431|       null|      null|    null|    null| 43478.35576264739|26.330544092197098|26.476770058764238|25.43207504090719|18.08584090995549|   31.549759427952|56.54200026624574|0.24509483135807708|1009.8500979441243|25.428617614057774| 9.628111747142613|208.6847650381302|10.293345758134759|\n",
      "| stddev|4.243153563940877|2.6648605800487064| 1.001906103403443|0.9240761620012403|31.23062875831126|       null|      null|    null|    null|13140.611143502083| 4.383302341302271| 4.238665870476874|4.562131215719988|8.650297195157853|33.941166835836576| 24.5397057557585| 0.8853409353144351| 3.593701624432942| 4.562861675720367|1.1369694375940835| 87.4688691085328| 5.137791994420455|\n",
      "|    min|               22|                11|               8.3|                 4|                0|   01:00 AM|  01:00 AM|05:57 AM|05:56 PM|             20714|                10|                11|               10|                1|                 0|                4|                0.0|               997|                11|                 2|                0|                 0|\n",
      "|    max|               42|                28|              13.5|                 8|              100|No moonrise|No moonset|07:10 AM|07:16 PM|             66216|                44|                44|               42|               76|               100|               98|               25.7|              1020|                42|                10|              360|                40|\n",
      "+-------+-----------------+------------------+------------------+------------------+-----------------+-----------+----------+--------+--------+------------------+------------------+------------------+-----------------+-----------------+------------------+-----------------+-------------------+------------------+------------------+------------------+-----------------+------------------+\n",
      "\n",
      "\n",
      "Null counts:\n",
      "+---------+--------+--------+-------+-------+-----------------+--------+-------+-------+------+---------+----------+----------+----------+------------+----------+--------+--------+--------+-----+----------+-------------+-------------+\n",
      "|date_time|maxtempC|mintempC|sunHour|uvIndex|moon_illumination|moonrise|moonset|sunrise|sunset|DewPointC|FeelsLikeC|HeatIndexC|WindChillC|WindGustKmph|cloudcover|humidity|precipMM|pressure|tempC|visibility|winddirDegree|windspeedKmph|\n",
      "+---------+--------+--------+-------+-------+-----------------+--------+-------+-------+------+---------+----------+----------+----------+------------+----------+--------+--------+--------+-----+----------+-------------+-------------+\n",
      "|        2|     870|      25|    152|     53|                1|       0|      0|      0|     0|        3|         0|         0|        25|           9|         0|       0|      16|       2|    0|         0|            0|            0|\n",
      "+---------+--------+--------+-------+-------+-----------------+--------+-------+-------+------+---------+----------+----------+----------+------------+----------+--------+--------+--------+-----+----------+-------------+-------------+\n",
      "\n"
     ]
    }
   ],
   "source": [
    "from pyspark.sql.functions import col, sum\n",
    "\n",
    "# Print the schema\n",
    "\n",
    "print(\"Schema:\")\n",
    "df_spark.printSchema()\n",
    "\n",
    "# Print column names\n",
    "print(\"\\nColumns:\")\n",
    "print(df_spark.columns)\n",
    "\n",
    "# Count number of rows\n",
    "num_rows = df_spark.count()\n",
    "print(\"\\nNumber of rows:\", num_rows)\n",
    "\n",
    "# Show basic statistics\n",
    "print(\"\\nBasic statistics:\")\n",
    "df_spark.describe().show()\n",
    "\n",
    "# Count nulls in each column\n",
    "print(\"\\nNull counts:\")\n",
    "null_counts = df_spark.select([sum(col(c).isNull().cast(\"int\")).alias(c) for c in df_spark.columns])\n",
    "null_counts.show()"
   ]
  },
  {
   "cell_type": "code",
   "execution_count": 8,
   "id": "3ce37d7b",
   "metadata": {},
   "outputs": [
    {
     "name": "stdout",
     "output_type": "stream",
     "text": [
      "+-------+-----------------+------------------+------------------+------------------+-----------------+-----------+----------+--------+--------+------------------+------------------+------------------+-----------------+-----------------+------------------+-----------------+-------------------+------------------+------------------+------------------+-----------------+------------------+\n",
      "|summary|         maxtempC|          mintempC|           sunHour|           uvIndex|moon_illumination|   moonrise|   moonset| sunrise|  sunset|         DewPointC|        FeelsLikeC|        HeatIndexC|       WindChillC|     WindGustKmph|        cloudcover|         humidity|           precipMM|          pressure|             tempC|        visibility|    winddirDegree|     windspeedKmph|\n",
      "+-------+-----------------+------------------+------------------+------------------+-----------------+-----------+----------+--------+--------+------------------+------------------+------------------+-----------------+-----------------+------------------+-----------------+-------------------+------------------+------------------+------------------+-----------------+------------------+\n",
      "|  count|            51713|             52558|             52431|             52530|            52582|      52583|     52583|   52583|   52583|             52580|             52583|             52583|            52558|            52574|             52583|            52583|              52567|             52581|             52583|             52583|            52583|             52583|\n",
      "|   mean|30.83209251058728|21.247650215000572|11.087581774139888| 6.267028364743956|46.11266212772431|       null|      null|    null|    null| 43478.35576264739|26.330544092197098|26.476770058764238|25.43207504090719|18.08584090995549|   31.549759427952|56.54200026624574|0.24509483135807708|1009.8500979441243|25.428617614057774| 9.628111747142613|208.6847650381302|10.293345758134759|\n",
      "| stddev|4.243153563940877|2.6648605800487064| 1.001906103403443|0.9240761620012403|31.23062875831126|       null|      null|    null|    null|13140.611143502083| 4.383302341302271| 4.238665870476874|4.562131215719988|8.650297195157853|33.941166835836576| 24.5397057557585| 0.8853409353144351| 3.593701624432942| 4.562861675720367|1.1369694375940835| 87.4688691085328| 5.137791994420455|\n",
      "|    min|               22|                11|               8.3|                 4|                0|   01:00 AM|  01:00 AM|05:57 AM|05:56 PM|             20714|                10|                11|               10|                1|                 0|                4|                0.0|               997|                11|                 2|                0|                 0|\n",
      "|    max|               42|                28|              13.5|                 8|              100|No moonrise|No moonset|07:10 AM|07:16 PM|             66216|                44|                44|               42|               76|               100|               98|               25.7|              1020|                42|                10|              360|                40|\n",
      "+-------+-----------------+------------------+------------------+------------------+-----------------+-----------+----------+--------+--------+------------------+------------------+------------------+-----------------+-----------------+------------------+-----------------+-------------------+------------------+------------------+------------------+-----------------+------------------+\n",
      "\n"
     ]
    }
   ],
   "source": [
    "df_spark.describe().show()"
   ]
  },
  {
   "cell_type": "code",
   "execution_count": 9,
   "id": "e5dcd75b",
   "metadata": {},
   "outputs": [],
   "source": [
    "#Removing unwanted features from Dataset"
   ]
  },
  {
   "cell_type": "code",
   "execution_count": 10,
   "id": "23df00a8",
   "metadata": {},
   "outputs": [
    {
     "name": "stdout",
     "output_type": "stream",
     "text": [
      "root\n",
      " |-- maxtempC: integer (nullable = true)\n",
      " |-- mintempC: integer (nullable = true)\n",
      " |-- sunHour: double (nullable = true)\n",
      " |-- uvIndex: integer (nullable = true)\n",
      " |-- moon_illumination: integer (nullable = true)\n",
      " |-- DewPointC: integer (nullable = true)\n",
      " |-- HeatIndexC: integer (nullable = true)\n",
      " |-- WindChillC: integer (nullable = true)\n",
      " |-- WindGustKmph: integer (nullable = true)\n",
      " |-- cloudcover: integer (nullable = true)\n",
      " |-- humidity: integer (nullable = true)\n",
      " |-- precipMM: double (nullable = true)\n",
      " |-- pressure: integer (nullable = true)\n",
      " |-- tempC: integer (nullable = true)\n",
      " |-- visibility: integer (nullable = true)\n",
      " |-- winddirDegree: integer (nullable = true)\n",
      " |-- windspeedKmph: integer (nullable = true)\n",
      "\n"
     ]
    }
   ],
   "source": [
    "columns_to_drop = ['date_time', 'moonrise', 'moonset', 'sunrise', 'sunset', 'FeelsLikeC']\n",
    "df_spark = df_spark.drop(*columns_to_drop)\n",
    "\n",
    "# Show the updated DataFrame schema\n",
    "df_spark.printSchema()"
   ]
  },
  {
   "cell_type": "code",
   "execution_count": 11,
   "id": "9c221eeb",
   "metadata": {},
   "outputs": [],
   "source": [
    "#Displaying count of null values in each columns"
   ]
  },
  {
   "cell_type": "code",
   "execution_count": 12,
   "id": "57b3f668",
   "metadata": {},
   "outputs": [
    {
     "name": "stdout",
     "output_type": "stream",
     "text": [
      "+--------+--------+-------+-------+-----------------+---------+----------+----------+------------+----------+--------+--------+--------+-----+----------+-------------+-------------+\n",
      "|maxtempC|mintempC|sunHour|uvIndex|moon_illumination|DewPointC|HeatIndexC|WindChillC|WindGustKmph|cloudcover|humidity|precipMM|pressure|tempC|visibility|winddirDegree|windspeedKmph|\n",
      "+--------+--------+-------+-------+-----------------+---------+----------+----------+------------+----------+--------+--------+--------+-----+----------+-------------+-------------+\n",
      "|     870|      25|    152|     53|                1|        3|         0|        25|           9|         0|       0|      16|       2|    0|         0|            0|            0|\n",
      "+--------+--------+-------+-------+-----------------+---------+----------+----------+------------+----------+--------+--------+--------+-----+----------+-------------+-------------+\n",
      "\n"
     ]
    }
   ],
   "source": [
    "from pyspark.sql import functions as F\n",
    "# Create a list of column names with corresponding null counts\n",
    "null_counts = df_spark.select([F.count(F.when(F.col(c).isNull(), c)).alias(c) for c in df_spark.columns])\n",
    "\n",
    "# Show the null counts\n",
    "null_counts.show()\n"
   ]
  },
  {
   "cell_type": "code",
   "execution_count": 13,
   "id": "aa03dfa4",
   "metadata": {},
   "outputs": [],
   "source": [
    "#Removing null values by imputing null values by mean "
   ]
  },
  {
   "cell_type": "code",
   "execution_count": 14,
   "id": "cc27ef49",
   "metadata": {},
   "outputs": [
    {
     "name": "stdout",
     "output_type": "stream",
     "text": [
      "+--------+--------+-------+-------+-----------------+---------+----------+----------+------------+----------+--------+--------+--------+-----+----------+-------------+-------------+\n",
      "|maxtempC|mintempC|sunHour|uvIndex|moon_illumination|DewPointC|HeatIndexC|WindChillC|WindGustKmph|cloudcover|humidity|precipMM|pressure|tempC|visibility|winddirDegree|windspeedKmph|\n",
      "+--------+--------+-------+-------+-----------------+---------+----------+----------+------------+----------+--------+--------+--------+-----+----------+-------------+-------------+\n",
      "|       0|       0|      0|      0|                0|        0|         0|         0|           0|         0|       0|       0|       0|    0|         0|            0|            0|\n",
      "+--------+--------+-------+-------+-----------------+---------+----------+----------+------------+----------+--------+--------+--------+-----+----------+-------------+-------------+\n",
      "\n"
     ]
    }
   ],
   "source": [
    "from pyspark.sql.functions import mean, col, sum\n",
    "\n",
    "# Identify numerical columns\n",
    "numerical_columns = [c for c, dtype in df_spark.dtypes if dtype in ('int', 'double')]\n",
    "\n",
    "# Calculate mean for each numerical column\n",
    "mean_values = df_spark.select([mean(col(c)).alias(c) for c in numerical_columns]).first().asDict()\n",
    "\n",
    "# Fill missing values with the calculated means\n",
    "filled_df = df_spark.fillna(mean_values)\n",
    "\n",
    "# Count nulls in each column after filling\n",
    "null_counts = filled_df.select([sum(col(c).isNull().cast(\"int\")).alias(c) for c in filled_df.columns])\n",
    "\n",
    "# Show the null counts to verify\n",
    "null_counts.show()\n"
   ]
  },
  {
   "cell_type": "code",
   "execution_count": 15,
   "id": "74e6acc3",
   "metadata": {},
   "outputs": [],
   "source": [
    "#Separating Features and target columns"
   ]
  },
  {
   "cell_type": "code",
   "execution_count": 16,
   "id": "b3078956",
   "metadata": {},
   "outputs": [
    {
     "name": "stdout",
     "output_type": "stream",
     "text": [
      "+--------+--------+------------------+-------+-----------------+---------+----------+----------+------------+----------+--------+--------+--------+----------+-------------+-------------+\n",
      "|maxtempC|mintempC|           sunHour|uvIndex|moon_illumination|DewPointC|HeatIndexC|WindChillC|WindGustKmph|cloudcover|humidity|precipMM|pressure|visibility|winddirDegree|windspeedKmph|\n",
      "+--------+--------+------------------+-------+-----------------+---------+----------+----------+------------+----------+--------+--------+--------+----------+-------------+-------------+\n",
      "|      31|      17|              11.0|      6|               20|    20714|        18|        18|           5|         1|      63|     0.0|    1014|        10|           82|            2|\n",
      "|      31|      17|              11.0|      6|               20|    20715|        18|        18|           5|         0|      63|     0.0|    1014|        10|           94|            3|\n",
      "|      31|      17|              11.0|      6|               20|    20716|        17|        17|           6|         0|      64|     0.0|    1014|        10|          105|            3|\n",
      "|      31|      17|              11.0|      6|               20|    20717|        19|        19|           7|         1|      57|     0.0|    1014|        10|          110|            4|\n",
      "|      31|      17|11.087581774139888|      6|               20|    20718|        19|        19|           8|         1|      51|     0.0|    1015|        10|          115|            5|\n",
      "|      31|      17|              11.0|      6|               20|    20719|        20|        20|           9|         2|      44|     0.0|    1015|        10|          120|            6|\n",
      "|      31|      17|              11.0|      6|               20|    20720|        24|        21|           9|         2|      39|     0.0|    1015|        10|          123|            7|\n",
      "|      31|      17|              11.0|      6|               20|    20721|        25|        23|           9|         2|      34|     0.0|    1015|        10|          126|            7|\n",
      "|      31|      17|              11.0|      6|               20|    20722|        26|        26|           9|         3|      28|     0.0|    1015|        10|          129|            8|\n",
      "|      31|      17|              11.0|      6|               20|    20723|        27|        28|          12|         2|      26|     0.0|    1014|        10|          123|            7|\n",
      "|      31|      17|              11.0|      6|               20|    20724|        29|        30|          11|         2|      24|     0.0|    1013|        10|          117|            6|\n",
      "|      31|      17|              11.0|      6|               20|    20725|        30|        31|          11|         2|      22|     0.0|    1012|        10|          111|            5|\n",
      "|      31|      17|              11.0|      6|               20|    20726|        29|        31|          11|         1|      24|     0.0|    1012|        10|          103|            5|\n",
      "|      31|      17|              11.0|      6|               20|    20727|        29|        31|          13|         1|      27|     0.0|    1012|        10|           95|            6|\n",
      "|      31|      17|              11.0|      6|               20|    20728|        28|        29|          14|         0|      29|     0.0|    1012|        10|           87|            7|\n",
      "|      31|      17|              11.0|      6|               20|    20729|        27|        28|          14|         1|      36|     0.0|    1013|        10|           95|            5|\n",
      "|      31|      17|              11.0|      6|               20|    20730|        26|        26|          13|         1|      42|     0.0|    1013|        10|          104|            4|\n",
      "|      31|      17|              11.0|      6|               20|    20731|        25|        23|          12|         2|      49|     0.0|    1014|        10|          112|            2|\n",
      "|      31|      17|              11.0|      6|               20|    20732|        24|        22|          10|         2|      49|     0.0|    1014|        10|          175|            3|\n",
      "|      31|      17|              11.0|      6|               20|    20733|        20|        20|           6|         2|      49|     0.0|    1014|        10|          238|            3|\n",
      "+--------+--------+------------------+-------+-----------------+---------+----------+----------+------------+----------+--------+--------+--------+----------+-------------+-------------+\n",
      "only showing top 20 rows\n",
      "\n",
      "+-----+\n",
      "|tempC|\n",
      "+-----+\n",
      "|   18|\n",
      "|   18|\n",
      "|   17|\n",
      "|   19|\n",
      "|   19|\n",
      "|   20|\n",
      "|   21|\n",
      "|   23|\n",
      "|   26|\n",
      "|   28|\n",
      "|   30|\n",
      "|   31|\n",
      "|   31|\n",
      "|   31|\n",
      "|   29|\n",
      "|   28|\n",
      "|   26|\n",
      "|   23|\n",
      "|   22|\n",
      "|   20|\n",
      "+-----+\n",
      "only showing top 20 rows\n",
      "\n"
     ]
    }
   ],
   "source": [
    "# Drop the 'tempC' column to create X\n",
    "X = filled_df.drop('tempC')\n",
    "\n",
    "# Select the 'tempC' column to create Y\n",
    "Y = filled_df.select('tempC')\n",
    "\n",
    "# Show X and Y to verify\n",
    "X.show()\n",
    "Y.show()"
   ]
  },
  {
   "cell_type": "code",
   "execution_count": 17,
   "id": "d96da380",
   "metadata": {},
   "outputs": [],
   "source": [
    "#Splitting data into train and test data using Random sampling\n",
    "#Saving data into HDFS "
   ]
  },
  {
   "cell_type": "code",
   "execution_count": 18,
   "id": "4f632778",
   "metadata": {},
   "outputs": [],
   "source": [
    "train_df, test_df = filled_df.randomSplit([0.8, 0.2], seed=69)\n",
    "\n",
    "# HDFS namenode address and port\n",
    "namenode = \"hdfs://localhost\"\n",
    "port = \"9000\"\n",
    "\n",
    "# Full HDFS path\n",
    "hdfs_path = f\"{namenode}:{port}/user/talentum/\"\n",
    "\n",
    "# Save the training and testing sets to HDFS\n",
    "train_df.write.mode('overwrite').parquet(f'{hdfs_path}/train_df')\n",
    "test_df.write.mode('overwrite').parquet(f'{hdfs_path}/test_df')\n"
   ]
  },
  {
   "cell_type": "raw",
   "id": "a85d04ef",
   "metadata": {},
   "source": [
    "# HDFS namenode address and port\n",
    "namenode = \"hdfs://localhost\"\n",
    "port = \"9000\"\n",
    "\n",
    "# Full HDFS path\n",
    "hdfs_path = f\"{namenode}:{port}/user/talentum/\""
   ]
  },
  {
   "cell_type": "code",
   "execution_count": 19,
   "id": "228d0774",
   "metadata": {},
   "outputs": [],
   "source": [
    "#Linear Regression model Without HyperParameters"
   ]
  },
  {
   "cell_type": "code",
   "execution_count": 20,
   "id": "351e861e",
   "metadata": {},
   "outputs": [
    {
     "name": "stdout",
     "output_type": "stream",
     "text": [
      "Model's RMSE on test data: 2.0294049155959217\n",
      "Model's MAE on test data: 0.9655608707598868\n",
      "Model's R² on test data: 0.8052925612905231\n",
      "Model saved to: hdfs://localhost:9000/user/talentum/lrg_model\n"
     ]
    }
   ],
   "source": [
    "from pyspark.ml.feature import VectorAssembler\n",
    "from pyspark.ml.regression import LinearRegression\n",
    "from pyspark.ml.evaluation import RegressionEvaluator\n",
    "\n",
    "# Load the training and testing sets from HDFS\n",
    "train_df = spark.read.parquet(f'{hdfs_path}/train_df')\n",
    "test_df = spark.read.parquet(f'{hdfs_path}/test_df')\n",
    "\n",
    "# Prepare the feature assembler\n",
    "assembler = VectorAssembler(inputCols=[col for col in train_df.columns if col != 'tempC'], outputCol=\"features\")\n",
    "\n",
    "# Transform training and test data\n",
    "train_data = assembler.transform(train_df).select(\"features\", col(\"tempC\").alias(\"label\"))\n",
    "test_data = assembler.transform(test_df).select(\"features\", col(\"tempC\").alias(\"label\"))\n",
    "\n",
    "# Initialize the Linear Regression model with default parameters\n",
    "lr = LinearRegression(featuresCol=\"features\", labelCol=\"label\")\n",
    "\n",
    "# Fit the model on the training data\n",
    "model = lr.fit(train_data)\n",
    "\n",
    "# Evaluate the model on test data\n",
    "test_predictions = model.transform(test_data)\n",
    "\n",
    "# Initialize evaluators for different metrics\n",
    "evaluator_rmse = RegressionEvaluator(metricName=\"rmse\", labelCol=\"label\", predictionCol=\"prediction\")\n",
    "evaluator_mae = RegressionEvaluator(metricName=\"mae\", labelCol=\"label\", predictionCol=\"prediction\")\n",
    "evaluator_r2 = RegressionEvaluator(metricName=\"r2\", labelCol=\"label\", predictionCol=\"prediction\")\n",
    "\n",
    "# Calculate metrics\n",
    "rmse = evaluator_rmse.evaluate(test_predictions)\n",
    "mae = evaluator_mae.evaluate(test_predictions)\n",
    "r2 = evaluator_r2.evaluate(test_predictions)\n",
    "\n",
    "print(f\"Model's RMSE on test data: {rmse}\")\n",
    "print(f\"Model's MAE on test data: {mae}\")\n",
    "print(f\"Model's R² on test data: {r2}\")\n",
    "\n",
    "# Define the HDFS model path\n",
    "model_path = f\"{namenode}:{port}/user/talentum/lrg_model\"\n",
    "\n",
    "# Save the model to HDFS with overwrite option\n",
    "try:\n",
    "    model.write().overwrite().save(model_path)\n",
    "    print(f\"Model saved to: {model_path}\")\n",
    "except Exception as e:\n",
    "    print(f\"Error saving the model: {e}\")\n"
   ]
  },
  {
   "cell_type": "code",
   "execution_count": 21,
   "id": "159f444f",
   "metadata": {},
   "outputs": [],
   "source": [
    "#Linear Model after using HyperParameter"
   ]
  },
  {
   "cell_type": "code",
   "execution_count": 22,
   "id": "72a2e251",
   "metadata": {},
   "outputs": [
    {
     "name": "stdout",
     "output_type": "stream",
     "text": [
      "\n",
      "Best Model Hyperparameters:\n",
      " - regParam: 0.01\n",
      " - elasticNetParam: 1.0\n",
      "Best model saved to: hdfs://localhost:9000/user/talentum/lrg_best_model\n"
     ]
    }
   ],
   "source": [
    "from pyspark.ml.feature import VectorAssembler\n",
    "from pyspark.ml.regression import LinearRegression\n",
    "from pyspark.ml.tuning import ParamGridBuilder, CrossValidator\n",
    "from pyspark.ml.evaluation import RegressionEvaluator\n",
    "\n",
    "# Load the training and testing sets from HDFS\n",
    "train_df = spark.read.parquet(f'{hdfs_path}/train_df')\n",
    "test_df = spark.read.parquet(f'{hdfs_path}/test_df')\n",
    "\n",
    "# Prepare the feature assembler\n",
    "assembler = VectorAssembler(inputCols=[col for col in train_df.columns if col != 'tempC'], outputCol=\"features\")\n",
    "\n",
    "# Transform training and test data\n",
    "train_data = assembler.transform(train_df).select(\"features\", col(\"tempC\").alias(\"label\"))\n",
    "test_data = assembler.transform(test_df).select(\"features\", col(\"tempC\").alias(\"label\"))\n",
    "\n",
    "# Initialize the Linear Regression model with maxIter set to 50\n",
    "lr = LinearRegression(featuresCol=\"features\", labelCol=\"label\", maxIter=50)\n",
    "\n",
    "# Set up the parameter grid for tuning\n",
    "paramGrid = (ParamGridBuilder()\n",
    "             .addGrid(lr.regParam, [0.01, 0.1, 0.5])         # Regularization parameter\n",
    "             .addGrid(lr.elasticNetParam, [0.0, 0.5, 1.0])   # ElasticNet mixing parameter\n",
    "             .build())\n",
    "\n",
    "# Define the evaluator\n",
    "evaluator = RegressionEvaluator(metricName=\"rmse\", labelCol=\"label\", predictionCol=\"prediction\")\n",
    "\n",
    "# Set up cross-validator with parallelism\n",
    "crossval = CrossValidator(estimator=lr,\n",
    "                          estimatorParamMaps=paramGrid,\n",
    "                          evaluator=evaluator,\n",
    "                          numFolds=3,      # 3-fold cross-validation\n",
    "                          parallelism=4)   # Use 4 parallel tasks\n",
    "\n",
    "# Fit the cross-validator model\n",
    "cv_model = crossval.fit(train_data)\n",
    "\n",
    "# Select the best model\n",
    "best_model = cv_model.bestModel\n",
    "\n",
    "# Evaluate the model on test data\n",
    "test_predictions = best_model.transform(test_data)\n",
    "\n",
    "# Print the hyperparameters of the best model\n",
    "print(\"\\nBest Model Hyperparameters:\")\n",
    "print(f\" - regParam: {best_model._java_obj.getRegParam()}\")\n",
    "print(f\" - elasticNetParam: {best_model._java_obj.getElasticNetParam()}\")\n",
    "\n",
    "# Define the HDFS model path\n",
    "model_path = f\"{namenode}:{port}/user/talentum/lrg_best_model\"\n",
    "\n",
    "# Save the best model to HDFS with overwrite option\n",
    "try:\n",
    "    best_model.write().overwrite().save(model_path)\n",
    "    print(f\"Best model saved to: {model_path}\")\n",
    "except Exception as e:\n",
    "    print(f\"Error saving the model: {e}\")\n"
   ]
  },
  {
   "cell_type": "code",
   "execution_count": 23,
   "id": "9d616df3",
   "metadata": {},
   "outputs": [
    {
     "name": "stdout",
     "output_type": "stream",
     "text": [
      "Mean Absolute Error (MAE): 0.9636851135415566\n"
     ]
    }
   ],
   "source": [
    "from pyspark.ml.evaluation import RegressionEvaluator\n",
    "\n",
    "# Make predictions on test data\n",
    "predictions = best_model.transform(test_data)\n",
    "\n",
    "# Initialize the RegressionEvaluator\n",
    "evaluator = RegressionEvaluator(\n",
    "    labelCol=\"label\", \n",
    "    predictionCol=\"prediction\", \n",
    "    metricName=\"mae\"  # Mean Absolute Error\n",
    ")\n",
    "\n",
    "# Calculate Mean Absolute Error (MAE)\n",
    "mae = evaluator.evaluate(predictions)\n",
    "print(f\"Mean Absolute Error (MAE): {mae}\")\n"
   ]
  },
  {
   "cell_type": "code",
   "execution_count": 24,
   "id": "f2c7cbb7",
   "metadata": {},
   "outputs": [
    {
     "name": "stdout",
     "output_type": "stream",
     "text": [
      "Root Mean Squared Error (RMSE): 2.030390525528172\n"
     ]
    }
   ],
   "source": [
    "from pyspark.ml.evaluation import RegressionEvaluator\n",
    "import math\n",
    "\n",
    "# Make predictions on test data\n",
    "predictions = best_model.transform(test_data)\n",
    "\n",
    "# Initialize the RegressionEvaluator for RMSE\n",
    "evaluator_rmse = RegressionEvaluator(\n",
    "    labelCol=\"label\", \n",
    "    predictionCol=\"prediction\", \n",
    "    metricName=\"rmse\"  # Root Mean Squared Error\n",
    ")\n",
    "\n",
    "# Calculate Root Mean Squared Error (RMSE)\n",
    "rmse = evaluator_rmse.evaluate(predictions)\n",
    "print(f\"Root Mean Squared Error (RMSE): {rmse}\")\n"
   ]
  },
  {
   "cell_type": "code",
   "execution_count": 25,
   "id": "ce751bea",
   "metadata": {},
   "outputs": [
    {
     "name": "stdout",
     "output_type": "stream",
     "text": [
      "R-squared (R²) score: 0.8051033903814893\n"
     ]
    }
   ],
   "source": [
    "from pyspark.ml.evaluation import RegressionEvaluator\n",
    "\n",
    "# Make predictions on test data\n",
    "predictions = best_model.transform(test_data)\n",
    "\n",
    "# Initialize the RegressionEvaluator\n",
    "evaluator = RegressionEvaluator(\n",
    "    labelCol=\"label\", \n",
    "    predictionCol=\"prediction\", \n",
    "    metricName=\"r2\"  # R-squared score\n",
    ")\n",
    "\n",
    "# Calculate R-squared (R²) score\n",
    "r2 = evaluator.evaluate(predictions)\n",
    "print(f\"R-squared (R²) score: {r2}\")\n"
   ]
  },
  {
   "cell_type": "code",
   "execution_count": 26,
   "id": "0578a636",
   "metadata": {},
   "outputs": [
    {
     "name": "stdout",
     "output_type": "stream",
     "text": [
      "First few true values: [22, 22, 22, 21, 20]\n",
      "First few predicted values: [21.93971224560696, 21.98499350788085, 22.412208033843605, 21.5116099005854, 19.607891395629892]\n"
     ]
    }
   ],
   "source": [
    "# Make predictions on test data\n",
    "predictions = best_model.transform(test_data)\n",
    "\n",
    "# Extract predictions as a DataFrame\n",
    "predicted_values_df = predictions.select(\"prediction\")\n",
    "\n",
    "# Collect predictions into a list\n",
    "y_pred = predicted_values_df.rdd.flatMap(lambda x: x).collect()\n",
    "\n",
    "# If you also need true values\n",
    "true_values_df = predictions.select(\"label\")\n",
    "y_true = true_values_df.rdd.flatMap(lambda x: x).collect()\n",
    "\n",
    "# Display some results\n",
    "print(f\"First few true values: {y_true[:5]}\")\n",
    "print(f\"First few predicted values: {y_pred[:5]}\")\n"
   ]
  },
  {
   "cell_type": "code",
   "execution_count": 27,
   "id": "aad5b162",
   "metadata": {},
   "outputs": [
    {
     "data": {
      "image/png": "[encoded data removed]",
      "text/plain": [
       "<Figure size 864x576 with 1 Axes>"
      ]
     },
     "metadata": {},
     "output_type": "display_data"
    }
   ],
   "source": [
    "import matplotlib.pyplot as plt\n",
    "\n",
    "# Example data (replace these with your actual data)\n",
    "# y_true = [actual values]\n",
    "# y_pred = [predicted values]\n",
    "\n",
    "# Create a figure with a specific size\n",
    "plt.figure(figsize=(12, 8))  # Width = 12 inches, Height = 8 inches\n",
    "\n",
    "# Create a scatter plot\n",
    "plt.scatter(y_true, y_pred, c='blue', label='Actual', alpha=0.7)\n",
    "\n",
    "# Plot the line of perfect prediction\n",
    "plt.plot([min(y_true), max(y_true)], [min(y_true), max(y_true)], linestyle='--', color='red', label='Perfect Prediction')\n",
    "\n",
    "# Add labels and title\n",
    "plt.xlabel('Actual Values (y_true)')\n",
    "plt.ylabel('Predicted Values (y_pred)')\n",
    "plt.title('Scatter Plot of Actual vs. Predicted Values')\n",
    "\n",
    "# Add a legend\n",
    "plt.legend()\n",
    "\n",
    "# Show the plot\n",
    "plt.show()\n",
    "\n",
    "#This plot helps evaluate the performance of your regression \n",
    "#model by showing how well the predicted values correspond to the actual values.\n"
   ]
  },
  {
   "cell_type": "code",
   "execution_count": 28,
   "id": "f4a6d1de",
   "metadata": {
    "scrolled": true
   },
   "outputs": [
    {
     "name": "stdout",
     "output_type": "stream",
     "text": [
      "+--------+--------+--------+--------+--------+--------+--------+--------+--------+---------+---------+---------+---------+---------+---------+---------+--------------------+-----------------+\n",
      "|feature1|feature2|feature3|feature4|feature5|feature6|feature7|feature8|feature9|feature10|feature11|feature12|feature13|feature14|feature15|feature16|            features|       prediction|\n",
      "+--------+--------+--------+--------+--------+--------+--------+--------+--------+---------+---------+---------+---------+---------+---------+---------+--------------------+-----------------+\n",
      "|      31|      17|      11|       6|      20|   20714|      18|      18|      18|        5|        1|       63|        0|     1014|       10|       82|[31.0,17.0,11.0,6...|48.01519215413649|\n",
      "+--------+--------+--------+--------+--------+--------+--------+--------+--------+---------+---------+---------+---------+---------+---------+---------+--------------------+-----------------+\n",
      "\n"
     ]
    }
   ],
   "source": [
    "import pandas as pd\n",
    "import numpy as np\n",
    "from pyspark.sql import SparkSession\n",
    "from pyspark.ml.feature import VectorAssembler\n",
    "from pyspark.ml.regression import LinearRegressionModel\n",
    "\n",
    "\n",
    "\n",
    "# Define the HDFS path where the model is saved\n",
    "model_path = \"hdfs://localhost:9000/user/talentum/lrg_best_model\"  # Replace with your HDFS path\n",
    "\n",
    "# Define the artificial input data with all 16 features\n",
    "input_data = np.array([[31, 17, 11, 6, 20, 20714, 18, 18, 18, 5, 1, 63, 0, 1014, 10, 82]])\n",
    "\n",
    "# Convert input_data to a Spark DataFrame\n",
    "feature_columns = [f\"feature{i+1}\" for i in range(input_data.shape[1])]\n",
    "input_df = spark.createDataFrame(pd.DataFrame(input_data, columns=feature_columns))\n",
    "\n",
    "# Load the trained model from HDFS\n",
    "model = LinearRegressionModel.load(model_path)\n",
    "\n",
    "# Prepare the feature assembler\n",
    "assembler = VectorAssembler(inputCols=feature_columns, outputCol=\"features\")\n",
    "input_data_transformed = assembler.transform(input_df)\n",
    "\n",
    "# Make predictions\n",
    "predictions = model.transform(input_data_transformed)\n",
    "\n",
    "# Show predictions (for demonstration purposes)\n",
    "predictions.show()\n",
    "\n"
   ]
  },
  {
   "cell_type": "code",
   "execution_count": 29,
   "id": "8d5d7cdb",
   "metadata": {},
   "outputs": [],
   "source": [
    "#Decision Tree without using Hyperparameters"
   ]
  },
  {
   "cell_type": "code",
   "execution_count": 30,
   "id": "8f272b41",
   "metadata": {},
   "outputs": [
    {
     "name": "stdout",
     "output_type": "stream",
     "text": [
      "Model's RMSE on test data: 1.9108793745767327\n",
      "Mean Absolute Error (MAE) on test data = 0.8996887325834618\n",
      "R² Score on test data = 0.8273718272776558\n",
      "Decision Tree model saved to: hdfs://localhost:9000/user/talentum/dt_model\n"
     ]
    }
   ],
   "source": [
    "from pyspark.ml.feature import VectorAssembler, StandardScaler\n",
    "from pyspark.ml.regression import DecisionTreeRegressor\n",
    "from pyspark.ml.evaluation import RegressionEvaluator\n",
    "from pyspark.sql import SparkSession\n",
    "from pyspark.sql.functions import col\n",
    "\n",
    "# Initialize SparkSession\n",
    "spark = SparkSession.builder.appName(\"DecisionTreeRegressorExample\").getOrCreate()\n",
    "\n",
    "# Define the HDFS path\n",
    "hdfs_path = \"hdfs://localhost:9000/user/talentum/\"  # Replace with your actual HDFS path\n",
    "\n",
    "# Load the training and testing sets from HDFS\n",
    "train_df = spark.read.parquet(f'{hdfs_path}/train_df')\n",
    "test_df = spark.read.parquet(f'{hdfs_path}/test_df')\n",
    "\n",
    "# Prepare the feature assembler\n",
    "assembler = VectorAssembler(inputCols=[col for col in train_df.columns if col != 'tempC'], outputCol=\"features\")\n",
    "\n",
    "# Transform the data to include the feature column\n",
    "train_data_assembled = assembler.transform(train_df)\n",
    "test_data_assembled = assembler.transform(test_df)\n",
    "\n",
    "# Scale the features\n",
    "scaler = StandardScaler(inputCol=\"features\", outputCol=\"scaled_features\", withMean=True, withStd=True)\n",
    "scaler_model = scaler.fit(train_data_assembled)\n",
    "train_data_scaled = scaler_model.transform(train_data_assembled)\n",
    "test_data_scaled = scaler_model.transform(test_data_assembled)\n",
    "\n",
    "# Prepare final training and test datasets\n",
    "train_data_final = train_data_scaled.select(col(\"scaled_features\").alias(\"features\"), col(\"tempC\").alias(\"label\"))\n",
    "test_data_final = test_data_scaled.select(col(\"scaled_features\").alias(\"features\"), col(\"tempC\").alias(\"label\"))\n",
    "\n",
    "# Initialize the Decision Tree Regressor model\n",
    "dt = DecisionTreeRegressor(featuresCol=\"features\", labelCol=\"label\")\n",
    "\n",
    "# Fit the Decision Tree model\n",
    "model = dt.fit(train_data_final)\n",
    "\n",
    "# Evaluate the model on test data\n",
    "predictions = model.transform(test_data_final)\n",
    "\n",
    "# Define the evaluator\n",
    "evaluator_rmse = RegressionEvaluator(labelCol=\"label\", predictionCol=\"prediction\", metricName=\"rmse\")\n",
    "rmse = evaluator_rmse.evaluate(predictions)\n",
    "print(f\"Model's RMSE on test data: {rmse}\")\n",
    "\n",
    "# Evaluate the model using MAE\n",
    "evaluator_mae = RegressionEvaluator(labelCol=\"label\", predictionCol=\"prediction\", metricName=\"mae\")\n",
    "mae = evaluator_mae.evaluate(predictions)\n",
    "print(f\"Mean Absolute Error (MAE) on test data = {mae}\")\n",
    "\n",
    "# Evaluate the model using R2\n",
    "evaluator_r2 = RegressionEvaluator(labelCol=\"label\", predictionCol=\"prediction\", metricName=\"r2\")\n",
    "r2 = evaluator_r2.evaluate(predictions)\n",
    "print(f\"R² Score on test data = {r2}\")\n",
    "\n",
    "# Show some prediction results\n",
    "#predictions.select(\"prediction\", \"label\", \"features\").show(5)\n",
    "\n",
    "# Define model paths\n",
    "model_path_hdfs = f'{hdfs_path}dt_model'\n",
    "scaler_model_path_hdfs = f'{hdfs_path}scaler_model'\n",
    "\n",
    "# Save the model to HDFS\n",
    "model.write().overwrite().save(model_path_hdfs)\n",
    "print(f\"Decision Tree model saved to: {model_path_hdfs}\")\n"
   ]
  },
  {
   "cell_type": "code",
   "execution_count": 31,
   "id": "76dce7df",
   "metadata": {},
   "outputs": [
    {
     "name": "stdout",
     "output_type": "stream",
     "text": [
      "Best Model's RMSE on test data: 1.9108793745767327\n",
      "Mean Absolute Error (MAE) on test data = 0.8996887325834618\n",
      "Best Model Hyperparameters:\n",
      "maxDepth: 5\n",
      "minInfoGain: 0.0\n",
      "Decision Tree model saved to: hdfs://localhost:9000/user/talentum/dt_model\n",
      "Scaler model saved to: hdfs://localhost:9000/user/talentum/scaler_model\n"
     ]
    }
   ],
   "source": [
    "from pyspark.ml.feature import VectorAssembler, StandardScaler\n",
    "from pyspark.ml.regression import DecisionTreeRegressor\n",
    "from pyspark.ml.evaluation import RegressionEvaluator\n",
    "from pyspark.ml.tuning import ParamGridBuilder, CrossValidator\n",
    "from pyspark.sql import SparkSession\n",
    "from pyspark.sql.functions import col\n",
    "\n",
    "# Define the HDFS path\n",
    "hdfs_path = \"hdfs://localhost:9000/user/talentum/\"\n",
    "\n",
    "# Load the training and testing sets from HDFS\n",
    "train_df = spark.read.parquet(f'{hdfs_path}/train_df')\n",
    "test_df = spark.read.parquet(f'{hdfs_path}/test_df')\n",
    "\n",
    "# Prepare the feature assembler\n",
    "assembler = VectorAssembler(inputCols=[col for col in train_df.columns if col != 'tempC'], outputCol=\"features\")\n",
    "\n",
    "# Transform the data to include the feature column\n",
    "train_data_assembled = assembler.transform(train_df)\n",
    "test_data_assembled = assembler.transform(test_df)\n",
    "\n",
    "# Scale the features\n",
    "scaler = StandardScaler(inputCol=\"features\", outputCol=\"scaled_features\", withMean=True, withStd=True)\n",
    "scaler_model = scaler.fit(train_data_assembled)\n",
    "train_data_scaled = scaler_model.transform(train_data_assembled)\n",
    "test_data_scaled = scaler_model.transform(test_data_assembled)\n",
    "\n",
    "# Prepare final training and test datasets\n",
    "train_data_final = train_data_scaled.select(col(\"scaled_features\").alias(\"features\"), col(\"tempC\").alias(\"label\"))\n",
    "test_data_final = test_data_scaled.select(col(\"scaled_features\").alias(\"features\"), col(\"tempC\").alias(\"label\"))\n",
    "\n",
    "# Initialize the Decision Tree Regressor model\n",
    "dt = DecisionTreeRegressor(featuresCol=\"features\", labelCol=\"label\")\n",
    "\n",
    "# Set up the parameter grid for tuning only maxDepth and minInfoGain\n",
    "paramGrid = (ParamGridBuilder()\n",
    "             .addGrid(dt.maxDepth, [5, 10, 15])\n",
    "             .addGrid(dt.minInfoGain, [0.0, 0.01])\n",
    "             .build())\n",
    "\n",
    "# Define the evaluator\n",
    "evaluator = RegressionEvaluator(labelCol=\"label\", predictionCol=\"prediction\", metricName=\"rmse\")\n",
    "\n",
    "# Set up cross-validator\n",
    "crossval = CrossValidator(estimator=dt,\n",
    "                          estimatorParamMaps=paramGrid,\n",
    "                          evaluator=evaluator,\n",
    "                          numFolds=3,\n",
    "                          parallelism=4)\n",
    "\n",
    "# Fit the cross-validator model\n",
    "cv_model = crossval.fit(train_data_final)\n",
    "\n",
    "# Select the best model\n",
    "best_model = cv_model.bestModel\n",
    "\n",
    "# Evaluate the best model on test data\n",
    "predictions = best_model.transform(test_data_final)\n",
    "rmse = evaluator.evaluate(predictions)\n",
    "print(f\"Best Model's RMSE on test data: {rmse}\")\n",
    "\n",
    "# Evaluate the model using MAE\n",
    "evaluator_mae = RegressionEvaluator(labelCol=\"label\", predictionCol=\"prediction\", metricName=\"mae\")\n",
    "mae = evaluator_mae.evaluate(predictions)\n",
    "print(f\"Mean Absolute Error (MAE) on test data = {mae}\")\n",
    "\n",
    "# Retrieve the parameter grid and best model parameters\n",
    "param_maps = crossval.getEstimatorParamMaps()\n",
    "metrics = cv_model.avgMetrics\n",
    "\n",
    "# Find the index of the best model\n",
    "best_index = metrics.index(min(metrics))\n",
    "best_param_map = param_maps[best_index]\n",
    "\n",
    "# Print the best parameters\n",
    "print(\"Best Model Hyperparameters:\")\n",
    "for param in best_param_map:\n",
    "    print(f\"{param.name}: {best_param_map[param]}\")\n",
    "\n",
    "# Define model paths\n",
    "model_path_hdfs = f'{hdfs_path}dt_model'\n",
    "scaler_model_path_hdfs = f'{hdfs_path}scaler_model'\n",
    "\n",
    "# Save the best Decision Tree model to HDFS\n",
    "best_model.write().overwrite().save(model_path_hdfs)\n",
    "print(f\"Decision Tree model saved to: {model_path_hdfs}\")\n",
    "\n",
    "# Save the scaler model to HDFS\n",
    "scaler_model.write().overwrite().save(scaler_model_path_hdfs)\n",
    "print(f\"Scaler model saved to: {scaler_model_path_hdfs}\")\n"
   ]
  },
  {
   "cell_type": "code",
   "execution_count": 32,
   "id": "0be98965",
   "metadata": {},
   "outputs": [
    {
     "name": "stdout",
     "output_type": "stream",
     "text": [
      "Mean Absolute Error (MAE) on test data = 0.8996887325834618\n"
     ]
    }
   ],
   "source": [
    "from pyspark.ml.evaluation import RegressionEvaluator\n",
    "\n",
    "# Evaluate the model using MAE\n",
    "evaluator_mae = RegressionEvaluator(labelCol=\"label\", predictionCol=\"prediction\", metricName=\"mae\")\n",
    "mae = evaluator_mae.evaluate(predictions)\n",
    "print(f\"Mean Absolute Error (MAE) on test data = {mae}\")\n"
   ]
  },
  {
   "cell_type": "code",
   "execution_count": 33,
   "id": "bf63f674",
   "metadata": {},
   "outputs": [
    {
     "name": "stdout",
     "output_type": "stream",
     "text": [
      "R² score on test data = 0.8273718272776558\n"
     ]
    }
   ],
   "source": [
    "# Evaluate the model using R²\n",
    "evaluator_r2 = RegressionEvaluator(labelCol=\"label\", predictionCol=\"prediction\", metricName=\"r2\")\n",
    "r2 = evaluator_r2.evaluate(predictions)\n",
    "print(f\"R² score on test data = {r2}\")"
   ]
  },
  {
   "cell_type": "code",
   "execution_count": 34,
   "id": "a58d003c",
   "metadata": {},
   "outputs": [
    {
     "name": "stdout",
     "output_type": "stream",
     "text": [
      "+-----------------+\n",
      "|       prediction|\n",
      "+-----------------+\n",
      "|37.24057971014493|\n",
      "+-----------------+\n",
      "\n"
     ]
    }
   ],
   "source": [
    "from pyspark.ml.feature import VectorAssembler, StandardScalerModel\n",
    "from pyspark.ml.regression import DecisionTreeRegressionModel\n",
    "from pyspark.ml.linalg import Vectors\n",
    "from pyspark.sql import SparkSession, Row\n",
    "\n",
    "# Define the HDFS path\n",
    "hdfs_model_path = \"hdfs://localhost:9000/user/talentum/dt_model\"\n",
    "hdfs_scaler_path = \"hdfs://localhost:9000/user/talentum/scaler_model\"\n",
    "\n",
    "# Load the trained model from HDFS\n",
    "dt_model = DecisionTreeRegressionModel.load(hdfs_model_path)\n",
    "\n",
    "# Load the scaler model from HDFS\n",
    "scaler_model = StandardScalerModel.load(hdfs_scaler_path)\n",
    "\n",
    "# Prepare the input data\n",
    "input_data = np.array([[31, 17, 11, 6, 20, 20714, 18, 18, 18, 5, 1, 63, 0, 1014, 10, 82]])\n",
    "input_df = spark.createDataFrame([Row(features=Vectors.dense(input_data[0]))])\n",
    "\n",
    "# Scale the input data\n",
    "input_data_scaled = scaler_model.transform(input_df)\n",
    "\n",
    "# Make predictions\n",
    "predictions = dt_model.transform(input_data_scaled)\n",
    "predictions.select(\"prediction\").show()\n",
    "\n",
    "\n"
   ]
  },
  {
   "cell_type": "code",
   "execution_count": 35,
   "id": "e3dd03f0",
   "metadata": {},
   "outputs": [],
   "source": [
    "#Random Forest without using HyperParameters"
   ]
  },
  {
   "cell_type": "code",
   "execution_count": 36,
   "id": "a4b0949d",
   "metadata": {},
   "outputs": [
    {
     "name": "stdout",
     "output_type": "stream",
     "text": [
      "Model's RMSE on test data: 1.8666845131832503\n",
      "Mean Absolute Error (MAE) on test data = 0.8473225060840271\n",
      "R-squared (R2) on test data = 0.835264584096758\n"
     ]
    }
   ],
   "source": [
    "from pyspark.ml.feature import VectorAssembler, StandardScaler\n",
    "from pyspark.ml.regression import RandomForestRegressor\n",
    "from pyspark.ml.evaluation import RegressionEvaluator\n",
    "from pyspark.sql import SparkSession\n",
    "from pyspark.sql.functions import col\n",
    "\n",
    "# Define the HDFS path\n",
    "hdfs_path = \"hdfs://localhost:9000/user/talentum/\"  \n",
    "\n",
    "# Load the training and testing sets from HDFS\n",
    "train_df = spark.read.parquet(f'{hdfs_path}/train_df')\n",
    "test_df = spark.read.parquet(f'{hdfs_path}/test_df')\n",
    "\n",
    "# Prepare the feature assembler\n",
    "assembler = VectorAssembler(inputCols=[col for col in train_df.columns if col != 'tempC'], outputCol=\"features\")\n",
    "\n",
    "# Transform the data to include the feature column\n",
    "train_data_assembled = assembler.transform(train_df)\n",
    "test_data_assembled = assembler.transform(test_df)\n",
    "\n",
    "# Scale the features\n",
    "scaler = StandardScaler(inputCol=\"features\", outputCol=\"scaled_features\", withMean=True, withStd=True)\n",
    "scaler_model = scaler.fit(train_data_assembled)\n",
    "train_data_scaled = scaler_model.transform(train_data_assembled)\n",
    "test_data_scaled = scaler_model.transform(test_data_assembled)\n",
    "\n",
    "# Prepare final training and test datasets\n",
    "train_data_final = train_data_scaled.select(col(\"scaled_features\").alias(\"features\"), col(\"tempC\").alias(\"label\"))\n",
    "test_data_final = test_data_scaled.select(col(\"scaled_features\").alias(\"features\"), col(\"tempC\").alias(\"label\"))\n",
    "\n",
    "# Initialize the Random Forest Regressor model with default parameters\n",
    "rf = RandomForestRegressor(featuresCol=\"features\", labelCol=\"label\")\n",
    "\n",
    "# Fit the model\n",
    "rf_model = rf.fit(train_data_final)\n",
    "\n",
    "# Make predictions\n",
    "predictions = rf_model.transform(test_data_final)\n",
    "\n",
    "# Evaluate the model\n",
    "evaluator_rmse = RegressionEvaluator(labelCol=\"label\", predictionCol=\"prediction\", metricName=\"rmse\")\n",
    "rmse = evaluator_rmse.evaluate(predictions)\n",
    "print(f\"Model's RMSE on test data: {rmse}\")\n",
    "\n",
    "# Evaluate the model using MAE\n",
    "evaluator_mae = RegressionEvaluator(labelCol=\"label\", predictionCol=\"prediction\", metricName=\"mae\")\n",
    "mae = evaluator_mae.evaluate(predictions)\n",
    "print(f\"Mean Absolute Error (MAE) on test data = {mae}\")\n",
    "\n",
    "# Evaluate the model using R-squared (R2)\n",
    "evaluator_r2 = RegressionEvaluator(labelCol=\"label\", predictionCol=\"prediction\", metricName=\"r2\")\n",
    "r2 = evaluator_r2.evaluate(predictions)\n",
    "print(f\"R-squared (R2) on test data = {r2}\")\n",
    "\n",
    "# Show some prediction results\n",
    "#predictions.select(\"prediction\", \"label\", \"features\").show(5)\n"
   ]
  },
  {
   "cell_type": "code",
   "execution_count": null,
   "id": "d9ec276b",
   "metadata": {},
   "outputs": [],
   "source": [
    "#Random Forest using HyperParameters"
   ]
  },
  {
   "cell_type": "code",
   "execution_count": 37,
   "id": "60e69e04",
   "metadata": {},
   "outputs": [
    {
     "name": "stdout",
     "output_type": "stream",
     "text": [
      "Best Model Hyperparameters:\n",
      "numTrees: 20\n",
      "maxDepth: 10\n",
      "minInfoGain: 0.0\n",
      "Random Forest model saved to: hdfs://localhost:9000/user/talentum/rf_model\n",
      "Best Model's RMSE on test data: 1.7595185671947366\n",
      "Mean Absolute Error (MAE) on test data = 0.6180021647559436\n",
      "R-squared (R2) on test data = 0.853636483230075\n",
      "+------------------+-----+--------------------+\n",
      "|        prediction|label|            features|\n",
      "+------------------+-----+--------------------+\n",
      "| 21.91351761891793|   22|[-2.0941362291209...|\n",
      "| 21.91351761891793|   22|[-2.0941362291209...|\n",
      "|22.157321044552532|   22|[-2.0941362291209...|\n",
      "| 21.86217952471511|   21|[-2.0941362291209...|\n",
      "|20.148950387400333|   20|[-2.0941362291209...|\n",
      "+------------------+-----+--------------------+\n",
      "only showing top 5 rows\n",
      "\n"
     ]
    }
   ],
   "source": [
    "from pyspark.ml.feature import VectorAssembler, StandardScaler\n",
    "from pyspark.ml.regression import RandomForestRegressor\n",
    "from pyspark.ml.evaluation import RegressionEvaluator\n",
    "from pyspark.ml.tuning import ParamGridBuilder, CrossValidator\n",
    "from pyspark.sql import SparkSession\n",
    "from pyspark.sql.functions import col\n",
    "\n",
    "\n",
    "# Define the HDFS path\n",
    "hdfs_path = \"hdfs://localhost:9000/user/talentum/\"  \n",
    "\n",
    "# Load the training and testing sets from HDFS\n",
    "train_df = spark.read.parquet(f'{hdfs_path}/train_df')\n",
    "test_df = spark.read.parquet(f'{hdfs_path}/test_df')\n",
    "\n",
    "# Prepare the feature assembler\n",
    "assembler = VectorAssembler(inputCols=[col for col in train_df.columns if col != 'tempC'], outputCol=\"features\")\n",
    "\n",
    "# Transform the data to include the feature column\n",
    "train_data_assembled = assembler.transform(train_df)\n",
    "test_data_assembled = assembler.transform(test_df)\n",
    "\n",
    "# Scale the features\n",
    "scaler = StandardScaler(inputCol=\"features\", outputCol=\"scaled_features\", withMean=True, withStd=True)\n",
    "scaler_model = scaler.fit(train_data_assembled)\n",
    "train_data_scaled = scaler_model.transform(train_data_assembled)\n",
    "test_data_scaled = scaler_model.transform(test_data_assembled)\n",
    "\n",
    "# Prepare final training and test datasets\n",
    "train_data_final = train_data_scaled.select(col(\"scaled_features\").alias(\"features\"), col(\"tempC\").alias(\"label\"))\n",
    "test_data_final = test_data_scaled.select(col(\"scaled_features\").alias(\"features\"), col(\"tempC\").alias(\"label\"))\n",
    "\n",
    "# Initialize the Random Forest Regressor model\n",
    "rf = RandomForestRegressor(featuresCol=\"features\", labelCol=\"label\")\n",
    "\n",
    "# Set up a reduced parameter grid\n",
    "paramGrid = (ParamGridBuilder()\n",
    "             .addGrid(rf.numTrees, [10, 20])  # Fewer trees to reduce computation\n",
    "             .addGrid(rf.maxDepth, [5, 10])   # Fewer depths to reduce computation\n",
    "             .addGrid(rf.minInfoGain, [0.0, 0.01])  # Minimal thresholds\n",
    "             .build())\n",
    "\n",
    "# Define the evaluator\n",
    "evaluator = RegressionEvaluator(labelCol=\"label\", predictionCol=\"prediction\", metricName=\"rmse\")\n",
    "\n",
    "# Set up cross-validator\n",
    "crossval = CrossValidator(estimator=rf,\n",
    "                          estimatorParamMaps=paramGrid,\n",
    "                          evaluator=evaluator,\n",
    "                          numFolds=3,      # 3-fold cross-validation\n",
    "                          parallelism=4)   # Use 4 parallel tasks\n",
    "\n",
    "# Fit the cross-validator model\n",
    "cv_model = crossval.fit(train_data_final)\n",
    "\n",
    "# Select the best model\n",
    "best_model = cv_model.bestModel\n",
    "\n",
    "# Print the best model hyperparameters\n",
    "print(\"Best Model Hyperparameters:\")\n",
    "print(f\"numTrees: {best_model._java_obj.getNumTrees()}\")\n",
    "print(f\"maxDepth: {best_model._java_obj.getMaxDepth()}\")\n",
    "print(f\"minInfoGain: {best_model._java_obj.getMinInfoGain()}\")\n",
    "\n",
    "# Save the best Random Forest model to HDFS\n",
    "model_path_hdfs = f'{hdfs_path}rf_model'\n",
    "scaler_model_path_hdfs = f'{hdfs_path}scaler_model'\n",
    "best_model.write().overwrite().save(model_path_hdfs)\n",
    "print(f\"Random Forest model saved to: {model_path_hdfs}\")\n",
    "\n",
    "# Make predictions\n",
    "predictions = best_model.transform(test_data_final)\n",
    "\n",
    "# Evaluate the best model\n",
    "evaluator_rmse = RegressionEvaluator(labelCol=\"label\", predictionCol=\"prediction\", metricName=\"rmse\")\n",
    "rmse = evaluator_rmse.evaluate(predictions)\n",
    "print(f\"Best Model's RMSE on test data: {rmse}\")\n",
    "\n",
    "# Evaluate the model using MAE\n",
    "evaluator_mae = RegressionEvaluator(labelCol=\"label\", predictionCol=\"prediction\", metricName=\"mae\")\n",
    "mae = evaluator_mae.evaluate(predictions)\n",
    "print(f\"Mean Absolute Error (MAE) on test data = {mae}\")\n",
    "\n",
    "# Evaluate the model using R-squared (R2)\n",
    "evaluator_r2 = RegressionEvaluator(labelCol=\"label\", predictionCol=\"prediction\", metricName=\"r2\")\n",
    "r2 = evaluator_r2.evaluate(predictions)\n",
    "print(f\"R-squared (R2) on test data = {r2}\")\n",
    "\n",
    "# Show some prediction results\n",
    "predictions.select(\"prediction\", \"label\", \"features\").show(5)\n"
   ]
  },
  {
   "cell_type": "code",
   "execution_count": 38,
   "id": "07619629",
   "metadata": {},
   "outputs": [],
   "source": [
    "#XGBoost Model without HyperParameters"
   ]
  },
  {
   "cell_type": "code",
   "execution_count": 39,
   "id": "3ebc98e0",
   "metadata": {},
   "outputs": [
    {
     "name": "stderr",
     "output_type": "stream",
     "text": [
      "/home/talentum/.local/lib/python3.6/site-packages/pkg_resources/__init__.py:119: PkgResourcesDeprecationWarning: 0.18ubuntu0.18.04.1 is an invalid version and will not be supported in a future release\n",
      "  PkgResourcesDeprecationWarning,\n"
     ]
    },
    {
     "name": "stdout",
     "output_type": "stream",
     "text": [
      "Root Mean Squared Error (RMSE) on test data: 1.826048052898857\n",
      "Mean Absolute Error (MAE) on test data: 0.6288576527807982\n",
      "R-squared (R2) on test data: 0.8420752606373079\n"
     ]
    }
   ],
   "source": [
    "import pandas as pd\n",
    "from sklearn.preprocessing import StandardScaler\n",
    "from xgboost import XGBRegressor\n",
    "from sklearn.metrics import mean_squared_error, mean_absolute_error, r2_score\n",
    "from sklearn.model_selection import train_test_split\n",
    "\n",
    "# Load your dataset\n",
    "data = pd.read_csv(\"file:///home/talentum/Pune_23.csv\")\n",
    "\n",
    "# Drop unsupported columns\n",
    "data = data.drop(columns=['date_time', 'moonrise', 'moonset', 'sunrise', 'sunset', 'FeelsLikeC'])\n",
    "\n",
    "# Prepare the data\n",
    "X = data.drop(columns=['tempC'])  # Features\n",
    "y = data['tempC']                 # Target variable\n",
    "\n",
    "# Split the data into training and testing sets\n",
    "X_train, X_test, y_train, y_test = train_test_split(X, y, test_size=0.2, random_state=69)\n",
    "\n",
    "# Standardize the features\n",
    "scaler = StandardScaler()\n",
    "X_train = scaler.fit_transform(X_train)\n",
    "X_test = scaler.transform(X_test)\n",
    "\n",
    "# Initialize the XGBoost Regressor with default parameters\n",
    "xgb = XGBRegressor(objective='reg:squarederror', n_estimators=100)\n",
    "\n",
    "# Train the model\n",
    "xgb.fit(X_train, y_train)\n",
    "\n",
    "# Make predictions on the test data\n",
    "y_pred = xgb.predict(X_test)\n",
    "\n",
    "# Evaluate the model\n",
    "rmse = mean_squared_error(y_test, y_pred, squared=False)\n",
    "mae = mean_absolute_error(y_test, y_pred)\n",
    "r2 = r2_score(y_test, y_pred)\n",
    "\n",
    "print(f\"Root Mean Squared Error (RMSE) on test data: {rmse}\")\n",
    "print(f\"Mean Absolute Error (MAE) on test data: {mae}\")\n",
    "print(f\"R-squared (R2) on test data: {r2}\")\n",
    "\n",
    "# Show some prediction results\n",
    "results = pd.DataFrame({'Actual': y_test, 'Predicted': y_pred})\n",
    "#print(results.head())\n"
   ]
  },
  {
   "cell_type": "code",
   "execution_count": 40,
   "id": "458471f8",
   "metadata": {},
   "outputs": [
    {
     "name": "stdout",
     "output_type": "stream",
     "text": [
      "Fitting 3 folds for each of 8 candidates, totalling 24 fits\n",
      "Best Model Hyperparameters:\n",
      "{'gamma': 0.1, 'learning_rate': 0.1, 'max_depth': 5}\n",
      "Root Mean Squared Error (RMSE) on test data: 1.7350951788466618\n",
      "Mean Absolute Error (MAE) on test data: 0.5931810299411885\n",
      "R-squared (R2) on test data: 0.857415482249666\n"
     ]
    }
   ],
   "source": [
    "import pandas as pd\n",
    "from sklearn.model_selection import GridSearchCV\n",
    "from sklearn.preprocessing import StandardScaler\n",
    "from xgboost import XGBRegressor\n",
    "from sklearn.metrics import mean_squared_error, mean_absolute_error, r2_score\n",
    "from sklearn.model_selection import train_test_split\n",
    "\n",
    "# Initialize the XGBoost Regressor\n",
    "xgb = XGBRegressor(objective='reg:squarederror', n_estimators=100)\n",
    "\n",
    "# Define a smaller parameter grid\n",
    "param_grid = {\n",
    "    'max_depth': [3, 5],\n",
    "    'learning_rate': [0.05, 0.1],\n",
    "    'gamma': [0, 0.1]\n",
    "}\n",
    "\n",
    "# Set up GridSearchCV with a smaller grid\n",
    "grid_search = GridSearchCV(\n",
    "    estimator=xgb,\n",
    "    param_grid=param_grid,\n",
    "    scoring='neg_mean_squared_error',\n",
    "    cv=3,              # 3-fold cross-validation\n",
    "    verbose=1,         # Print progress\n",
    "    n_jobs=-1          # Use all available CPU cores\n",
    ")\n",
    "\n",
    "# Train the model with hyperparameter tuning\n",
    "grid_search.fit(X_train, y_train)\n",
    "\n",
    "# Get the best model\n",
    "best_xgb = grid_search.best_estimator_\n",
    "\n",
    "# Print the best hyperparameters\n",
    "print(\"Best Model Hyperparameters:\")\n",
    "print(grid_search.best_params_)\n",
    "\n",
    "# Make predictions on the test data\n",
    "y_pred = best_xgb.predict(X_test)\n",
    "\n",
    "# Evaluate the model\n",
    "rmse = mean_squared_error(y_test, y_pred, squared=False)\n",
    "mae = mean_absolute_error(y_test, y_pred)\n",
    "r2 = r2_score(y_test, y_pred)\n",
    "\n",
    "print(f\"Root Mean Squared Error (RMSE) on test data: {rmse}\")\n",
    "print(f\"Mean Absolute Error (MAE) on test data: {mae}\")\n",
    "print(f\"R-squared (R2) on test data: {r2}\")\n",
    "\n",
    "# Show some prediction results\n",
    "results = pd.DataFrame({'Actual': y_test, 'Predicted': y_pred})\n",
    "#print(results.head())\n"
   ]
  },
  {
   "cell_type": "code",
   "execution_count": null,
   "id": "1f17a107",
   "metadata": {},
   "outputs": [],
   "source": []
  }
 ],
 "metadata": {
  "kernelspec": {
   "display_name": "Python 3 (ipykernel)",
   "language": "python",
   "name": "python3"
  },
  "language_info": {
   "codemirror_mode": {
    "name": "ipython",
    "version": 3
   },
   "file_extension": ".py",
   "mimetype": "text/x-python",
   "name": "python",
   "nbconvert_exporter": "python",
   "pygments_lexer": "ipython3",
   "version": "3.11.7"
  }
 },
 "nbformat": 4,
 "nbformat_minor": 5
}
