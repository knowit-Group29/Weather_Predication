{
 "cells": [
  {
   "cell_type": "code",
   "execution_count": null,
   "id": "4baeddbd-2cac-4227-a420-fb5c34189ad6",
   "metadata": {},
   "outputs": [],
   "source": [
    "# Intialization\n",
    "import os\n",
    "import sys\n",
    "\n",
    "os.environ[\"SPARK_HOME\"] = \"/home/talentum/spark\"\n",
    "os.environ[\"PYLIB\"] = os.environ[\"SPARK_HOME\"] + \"/python/lib\"\n",
    "# In below two lines, use /usr/bin/python2.7 if you want to use Python 2\n",
    "os.environ[\"PYSPARK_PYTHON\"] = \"/usr/bin/python3.6\" \n",
    "os.environ[\"PYSPARK_DRIVER_PYTHON\"] = \"/usr/bin/python3.6\"\n",
    "sys.path.insert(0, os.environ[\"PYLIB\"] +\"/py4j-0.10.7-src.zip\")\n",
    "sys.path.insert(0, os.environ[\"PYLIB\"] +\"/pyspark.zip\")\n",
    "\n",
    "# NOTE: Whichever package you want mention here.\n",
    "# os.environ['PYSPARK_SUBMIT_ARGS'] = '--packages com.databricks:spark-xml_2.11:0.6.0 pyspark-shell' \n",
    "# os.environ['PYSPARK_SUBMIT_ARGS'] = '--packages org.apache.spark:spark-avro_2.11:2.4.0 pyspark-shell'\n",
    "os.environ['PYSPARK_SUBMIT_ARGS'] = '--packages com.databricks:spark-xml_2.11:0.6.0,org.apache.spark:spark-avro_2.11:2.4.3 pyspark-shell'\n",
    "# os.environ['PYSPARK_SUBMIT_ARGS'] = '--packages com.databricks:spark-xml_2.11:0.6.0,org.apache.spark:spark-avro_2.11:2.4.0 pyspark-shell'"
   ]
  },
  {
   "cell_type": "code",
   "execution_count": null,
   "id": "d0bfb2c9-e1a7-4273-95eb-244b513d54c4",
   "metadata": {},
   "outputs": [],
   "source": [
    "#Entrypoint 2.x\n",
    "from pyspark.sql import SparkSession\n",
    "spark = SparkSession.builder.appName(\"WeatherPredictionPune\").enableHiveSupport().getOrCreate()\n",
    "\n",
    "# On yarn:\n",
    "# spark = SparkSession.builder.appName(\"Spark SQL basic example\").enableHiveSupport().master(\"yarn\").getOrCreate()\n",
    "# specify .master(\"yarn\")\n",
    "\n",
    "sc = spark.sparkContext"
   ]
  },
  {
   "cell_type": "code",
   "execution_count": null,
   "id": "906486f7-8daf-40d2-8369-ad8f456c1b6b",
   "metadata": {},
   "outputs": [],
   "source": [
    "# Read the CSV file into a Spark DataFrame\n",
    "df_spark = spark.read.csv(\"file:///home/talentum/Pune.csv\", header=True, inferSchema=True)\n",
    "\n",
    "# Show the DataFrame\n",
    "df_spark.show()"
   ]
  },
  {
   "cell_type": "code",
   "execution_count": null,
   "id": "00e3763f-f571-48fa-a9fb-7af2d08ff356",
   "metadata": {},
   "outputs": [],
   "source": [
    "import seaborn as sns\n",
    "import matplotlib.pyplot as plt\n",
    "\n",
    "# Convert Spark DataFrame to Pandas DataFrame\n",
    "df = df_spark.toPandas()\n",
    "\n",
    "# Plotting\n",
    "sns.set(style=\"darkgrid\")\n",
    "fig, axs = plt.subplots(2, 3, figsize=(10, 8))\n",
    "\n",
    "sns.histplot(data=df, x=\"maxtempC\", kde=True, ax=axs[0, 0], color='red')\n",
    "sns.histplot(data=df, x=\"mintempC\", kde=True, ax=axs[0, 1], color='green')\n",
    "sns.histplot(data=df, x=\"pressure\", kde=True, ax=axs[0, 2], color='blue')\n",
    "sns.histplot(data=df, x=\"humidity\", kde=True, ax=axs[1, 0], color='orange')\n",
    "sns.histplot(data=df, x=\"HeatIndexC\", kde=True, ax=axs[1, 1], color='black')\n",
    "sns.histplot(data=df, x=\"uvIndex\", kde=True, ax=axs[1, 2], color='yellow')\n",
    "\n",
    "# Adjust layout to prevent overlap\n",
    "plt.tight_layout()\n",
    "\n",
    "# Save the figure\n",
    "plt.savefig('histogram_distribution.png')\n"
   ]
  },
  {
   "cell_type": "code",
   "execution_count": null,
   "id": "c2076c64-3e21-4a55-8cd1-f7f6e07edd58",
   "metadata": {},
   "outputs": [],
   "source": [
    "# Get number of rows\n",
    "num_rows = df_spark.count()\n",
    "\n",
    "# Get number of columns\n",
    "num_columns = len(df_spark.columns)\n",
    "\n",
    "# Print the shape\n",
    "print(f\"Shape of the DataFrame: ({num_rows}, {num_columns})\")"
   ]
  },
  {
   "cell_type": "code",
   "execution_count": null,
   "id": "37e40e61-748d-41ce-a69d-1aa52b3bf01a",
   "metadata": {},
   "outputs": [],
   "source": [
    "df_spark.dtypes"
   ]
  },
  {
   "cell_type": "code",
   "execution_count": null,
   "id": "ca96bd45-eb66-429d-a995-9c2746c1f634",
   "metadata": {},
   "outputs": [],
   "source": [
    "from pyspark.sql.functions import col, sum\n",
    "\n",
    "# Print the schema\n",
    "\n",
    "print(\"Schema:\")\n",
    "df_spark.printSchema()\n",
    "\n",
    "# Print column names\n",
    "print(\"\\nColumns:\")\n",
    "print(df_spark.columns)\n",
    "\n",
    "# Count number of rows\n",
    "num_rows = df_spark.count()\n",
    "print(\"\\nNumber of rows:\", num_rows)\n",
    "\n",
    "# Show basic statistics\n",
    "print(\"\\nBasic statistics:\")\n",
    "df_spark.describe().show()\n",
    "\n",
    "# Count nulls in each column\n",
    "print(\"\\nNull counts:\")\n",
    "null_counts = df_spark.select([sum(col(c).isNull().cast(\"int\")).alias(c) for c in df_spark.columns])\n",
    "null_counts.show()"
   ]
  },
  {
   "cell_type": "code",
   "execution_count": null,
   "id": "859a3e8f-2cbf-458c-8e69-2c1efb307cdb",
   "metadata": {},
   "outputs": [],
   "source": [
    "df_spark.describe().show()"
   ]
  },
  {
   "cell_type": "code",
   "execution_count": null,
   "id": "5efd75c4-8f6d-4233-a5bb-5dd533e62529",
   "metadata": {},
   "outputs": [],
   "source": []
  }
 ],
 "metadata": {
  "kernelspec": {
   "display_name": "Python 3 (ipykernel)",
   "language": "python",
   "name": "python3"
  },
  "language_info": {
   "codemirror_mode": {
    "name": "ipython",
    "version": 3
   },
   "file_extension": ".py",
   "mimetype": "text/x-python",
   "name": "python",
   "nbconvert_exporter": "python",
   "pygments_lexer": "ipython3",
   "version": "3.11.7"
  }
 },
 "nbformat": 4,
 "nbformat_minor": 5
}
